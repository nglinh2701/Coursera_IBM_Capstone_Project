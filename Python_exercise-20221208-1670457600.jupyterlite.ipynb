{
  "metadata": {
    "kernelspec": {
      "name": "python",
      "display_name": "Python (Pyodide)",
      "language": "python"
    },
    "language_info": {
      "codemirror_mode": {
        "name": "python",
        "version": 3
      },
      "file_extension": ".py",
      "mimetype": "text/x-python",
      "name": "python",
      "nbconvert_exporter": "python",
      "pygments_lexer": "ipython3",
      "version": "3.8"
    },
    "prev_pub_hash": "c05fad0eb77d260fd7d052ac94217e22116e849b1700b5da83429cc51e05e932"
  },
  "nbformat_minor": 4,
  "nbformat": 4,
  "cells": [
    {
      "cell_type": "markdown",
      "source": "<center>\n    <img src=\"https://cf-courses-data.s3.us.cloud-object-storage.appdomain.cloud/IBM-CD0198EN-SkillsNetwork/labs/images/IBM_logo.png\" width=\"300\" alt=\"cognitiveclass.ai logo\">\n</center>\n\n# Python Exercise for Introductory Data Analysis\n\nEstimated time needed: 60 minutes\n",
      "metadata": {}
    },
    {
      "cell_type": "markdown",
      "source": "This lab is designed to allow for running basic Python commands for Introductory Data Analysis. It covers some sample data uploads, pre-processing, analyzing and visualization. Python provides a very rich environment to conduct deeper analyses and build sophisticated statistical models. For learning such advanced techniques, the student is encouraged to register for ML and Datascience courses available through IBM's certification courses\n",
      "metadata": {}
    },
    {
      "cell_type": "markdown",
      "source": "## __Table of Contents__\n\n<ol>\n    <li><a href=\"#Objectives\">Objectives</a></li>\n    <li><a href=\"#Setup\">Setup</a></li>\n    <li><a href=\"#Data\">Data</a></li>  \n    <li><a href=\"#Exercises\">Exercises</a></li>\n</ol>\n",
      "metadata": {}
    },
    {
      "cell_type": "markdown",
      "source": "## Objectives\n\nAfter completing this lab you will be able to:\n\nUse Python to solve load data, pre-process it, analyze and visualize it.\n",
      "metadata": {}
    },
    {
      "cell_type": "markdown",
      "source": "## Setup\n\nOperations in Python require certain libraries to be loaded, depending on the function that one is trying to use. There are several libraries available for use. Some Python enviroments come with pre-loaded libraries. However, in this exercise, we will see how to load such libraries\n",
      "metadata": {}
    },
    {
      "cell_type": "markdown",
      "source": "## Data \n\n###US Housing Market Factors\n\n<img src=\"https://cf-courses-data.s3.us.cloud-object-storage.appdomain.cloud/IBM-CD0198EN-SkillsNetwork/labs/images/housing-cover.jpg\" width=\"30%\" alt=\"housing image\">\n\nUS housing market depends on various factors. Here are some macroeconomic factors relevant to the market. The following attributes have been collected,\n\n - `Date`: Year \n\n - `House_Price_Index`: House price change according to the index base period set (you can check the date at which this value is 100). \n\n - `Stock_Price_Index`: Stock price change according to the index base period set (you can check the date at which this value is 100). \n\n - `Consumer_Price_Index`: The Consumer Price Index measures the overall change in consumer prices based on a representative basket of goods and services over time. \n\n - `Population`: Population of USA (unit: thousands). \n\n - `Unemployment_Rate`: Unemployment rate of USA (unit: percentage). \n\n - `Real_GDP`: GDP with adjusted inflation (Annual version unit: billions of chain 2012 dollars in, Monthly version unit: Annualised change). \n\n - `Mortgage_Rate`: Interest charged on mortgages (unit: percentage). \n\n - `Real_Disposable_Income` (Real Disposable Personal Income): Money left from salary after all the taxes are paid (unit: billions of chain 2012 dollars). \n \nYour task is to load the data, pre-process it, explore and visualize it\n",
      "metadata": {}
    },
    {
      "cell_type": "markdown",
      "source": "# Install Libraries\n",
      "metadata": {}
    },
    {
      "cell_type": "code",
      "source": "#you are running the lab in your  browser, so we will install the libraries using ``piplite``\nimport piplite\nimport micropip\nawait piplite.install(['pandas'])\nawait piplite.install(['matplotlib'])\nawait piplite.install(['scipy'])\nawait piplite.install(['seaborn'])\nawait micropip.install(['ipywidgets'],keep_going=True)\nawait micropip.install(['tqdm'],keep_going=True)",
      "metadata": {
        "trusted": true
      },
      "outputs": [],
      "execution_count": 1
    },
    {
      "cell_type": "markdown",
      "source": "# Exercises\n",
      "metadata": {}
    },
    {
      "cell_type": "markdown",
      "source": "### Exercise 1: Import numpy, pandas and matplotlib libraries into Jupyter \n",
      "metadata": {}
    },
    {
      "cell_type": "code",
      "source": "import numpy as np\nimport pandas as pd\nimport matplotlib.pyplot as plt",
      "metadata": {
        "trusted": true
      },
      "outputs": [],
      "execution_count": 14
    },
    {
      "cell_type": "markdown",
      "source": "<details>\n    <summary>Click here for Solution</summary>\n\n```python\nimport numpy as np\nimport pandas as pd\nimport matplotlib.pyplot as plt\n```\n\n</details>\n",
      "metadata": {}
    },
    {
      "cell_type": "markdown",
      "source": "### Exercise 2: Create a dataframe from a csv file and display the size of the dataframe \n",
      "metadata": {}
    },
    {
      "cell_type": "code",
      "source": "#This function will download the dataset into your browser \n\nfrom pyodide.http import pyfetch\n\nasync def download(url, filename):\n    response = await pyfetch(url)\n    if response.status == 200:\n        with open(filename, \"wb\") as f:\n            f.write(await response.bytes())",
      "metadata": {
        "trusted": true
      },
      "outputs": [],
      "execution_count": 3
    },
    {
      "cell_type": "code",
      "source": "path = 'https://cf-courses-data.s3.us.cloud-object-storage.appdomain.cloud/IBM-CD0198EN-SkillsNetwork/labs/data/Annual_Macroeconomic_Factors.csv'\nawait download(path, \"Annual_Macroeconomic_Factors.csv\")\npath=\"Annual_Macroeconomic_Factors.csv\"",
      "metadata": {
        "trusted": true
      },
      "outputs": [],
      "execution_count": 4
    },
    {
      "cell_type": "code",
      "source": "data =pd.read_csv('Annual_Macroeconomic_Factors.csv')\ndata.size",
      "metadata": {
        "trusted": true
      },
      "outputs": [
        {
          "execution_count": 5,
          "output_type": "execute_result",
          "data": {
            "text/plain": "423"
          },
          "metadata": {}
        }
      ],
      "execution_count": 5
    },
    {
      "cell_type": "markdown",
      "source": "<details>\n    <summary>Click here for Solution</summary>\n\n```python\ndata = pd.read_csv('Annual_Macroeconomic_Factors.csv')\ndata.size\n```\n\n</details>\n",
      "metadata": {}
    },
    {
      "cell_type": "markdown",
      "source": "### Exercise 3: Create a reduced dataframe by dropping Stock_Price_Index\n",
      "metadata": {}
    },
    {
      "cell_type": "code",
      "source": "data_reduced = data.drop(['Stock_Price_Index'], axis =1)\ndata_reduced.head()",
      "metadata": {
        "trusted": true
      },
      "outputs": [
        {
          "execution_count": 6,
          "output_type": "execute_result",
          "data": {
            "text/plain": "         Date  House_Price_Index  Consumer_Price_Index  Population  \\\n0  1975-01-01            61.0900              65.30488     0.98599   \n1  1976-01-01            65.5250              69.05653     0.95022   \n2  1977-01-01            73.4350              73.54636     1.00577   \n3  1978-01-01            83.7450              79.15866     1.05957   \n4  1979-01-01            95.1325              88.06755     1.10358   \n\n   Unemployment_Rate  Real_GDP  Mortgage_Rate  Real_Disposable_Income  \n0            8.46667  5648.462        9.04712                   19908  \n1            7.71667  5952.809        8.86585                   20346  \n2            7.06667  6228.076        8.84519                   20780  \n3            6.06667  6572.819        9.64173                   21497  \n4            5.83333  6780.924       11.20365                   21672  ",
            "text/html": "<div>\n<style scoped>\n    .dataframe tbody tr th:only-of-type {\n        vertical-align: middle;\n    }\n\n    .dataframe tbody tr th {\n        vertical-align: top;\n    }\n\n    .dataframe thead th {\n        text-align: right;\n    }\n</style>\n<table border=\"1\" class=\"dataframe\">\n  <thead>\n    <tr style=\"text-align: right;\">\n      <th></th>\n      <th>Date</th>\n      <th>House_Price_Index</th>\n      <th>Consumer_Price_Index</th>\n      <th>Population</th>\n      <th>Unemployment_Rate</th>\n      <th>Real_GDP</th>\n      <th>Mortgage_Rate</th>\n      <th>Real_Disposable_Income</th>\n    </tr>\n  </thead>\n  <tbody>\n    <tr>\n      <th>0</th>\n      <td>1975-01-01</td>\n      <td>61.0900</td>\n      <td>65.30488</td>\n      <td>0.98599</td>\n      <td>8.46667</td>\n      <td>5648.462</td>\n      <td>9.04712</td>\n      <td>19908</td>\n    </tr>\n    <tr>\n      <th>1</th>\n      <td>1976-01-01</td>\n      <td>65.5250</td>\n      <td>69.05653</td>\n      <td>0.95022</td>\n      <td>7.71667</td>\n      <td>5952.809</td>\n      <td>8.86585</td>\n      <td>20346</td>\n    </tr>\n    <tr>\n      <th>2</th>\n      <td>1977-01-01</td>\n      <td>73.4350</td>\n      <td>73.54636</td>\n      <td>1.00577</td>\n      <td>7.06667</td>\n      <td>6228.076</td>\n      <td>8.84519</td>\n      <td>20780</td>\n    </tr>\n    <tr>\n      <th>3</th>\n      <td>1978-01-01</td>\n      <td>83.7450</td>\n      <td>79.15866</td>\n      <td>1.05957</td>\n      <td>6.06667</td>\n      <td>6572.819</td>\n      <td>9.64173</td>\n      <td>21497</td>\n    </tr>\n    <tr>\n      <th>4</th>\n      <td>1979-01-01</td>\n      <td>95.1325</td>\n      <td>88.06755</td>\n      <td>1.10358</td>\n      <td>5.83333</td>\n      <td>6780.924</td>\n      <td>11.20365</td>\n      <td>21672</td>\n    </tr>\n  </tbody>\n</table>\n</div>"
          },
          "metadata": {}
        }
      ],
      "execution_count": 6
    },
    {
      "cell_type": "markdown",
      "source": "<details>\n    <summary>Click here for Solution</summary>\n\n```python\n#dropping a column (axis=1); dropping a row (axis=0)\ndata_reduced = data.drop([\"Stock_Price_Index\"], axis=1)\ndata_reduced.head()\n```\n\n</details>\n",
      "metadata": {}
    },
    {
      "cell_type": "markdown",
      "source": "### Exercise 4: Create a smaller dataframe by dropping data that has Unemployment_Rate > 9.5% \n",
      "metadata": {}
    },
    {
      "cell_type": "code",
      "source": "data_reduced_subset = data.drop(data[data[\"Unemployment_Rate\"] > 9.5].index)\ndata_reduced_subset.head()",
      "metadata": {
        "trusted": true
      },
      "outputs": [
        {
          "execution_count": 9,
          "output_type": "execute_result",
          "data": {
            "text/plain": "         Date  House_Price_Index  Stock_Price_Index  Consumer_Price_Index  \\\n0  1975-01-01            61.0900           67.14653              65.30488   \n1  1976-01-01            65.5250           79.96264              69.05653   \n2  1977-01-01            73.4350           78.82540              73.54636   \n3  1978-01-01            83.7450           78.84679              79.15866   \n4  1979-01-01            95.1325           85.63207              88.06755   \n\n   Population  Unemployment_Rate  Real_GDP  Mortgage_Rate  \\\n0     0.98599            8.46667  5648.462        9.04712   \n1     0.95022            7.71667  5952.809        8.86585   \n2     1.00577            7.06667  6228.076        8.84519   \n3     1.05957            6.06667  6572.819        9.64173   \n4     1.10358            5.83333  6780.924       11.20365   \n\n   Real_Disposable_Income  \n0                   19908  \n1                   20346  \n2                   20780  \n3                   21497  \n4                   21672  ",
            "text/html": "<div>\n<style scoped>\n    .dataframe tbody tr th:only-of-type {\n        vertical-align: middle;\n    }\n\n    .dataframe tbody tr th {\n        vertical-align: top;\n    }\n\n    .dataframe thead th {\n        text-align: right;\n    }\n</style>\n<table border=\"1\" class=\"dataframe\">\n  <thead>\n    <tr style=\"text-align: right;\">\n      <th></th>\n      <th>Date</th>\n      <th>House_Price_Index</th>\n      <th>Stock_Price_Index</th>\n      <th>Consumer_Price_Index</th>\n      <th>Population</th>\n      <th>Unemployment_Rate</th>\n      <th>Real_GDP</th>\n      <th>Mortgage_Rate</th>\n      <th>Real_Disposable_Income</th>\n    </tr>\n  </thead>\n  <tbody>\n    <tr>\n      <th>0</th>\n      <td>1975-01-01</td>\n      <td>61.0900</td>\n      <td>67.14653</td>\n      <td>65.30488</td>\n      <td>0.98599</td>\n      <td>8.46667</td>\n      <td>5648.462</td>\n      <td>9.04712</td>\n      <td>19908</td>\n    </tr>\n    <tr>\n      <th>1</th>\n      <td>1976-01-01</td>\n      <td>65.5250</td>\n      <td>79.96264</td>\n      <td>69.05653</td>\n      <td>0.95022</td>\n      <td>7.71667</td>\n      <td>5952.809</td>\n      <td>8.86585</td>\n      <td>20346</td>\n    </tr>\n    <tr>\n      <th>2</th>\n      <td>1977-01-01</td>\n      <td>73.4350</td>\n      <td>78.82540</td>\n      <td>73.54636</td>\n      <td>1.00577</td>\n      <td>7.06667</td>\n      <td>6228.076</td>\n      <td>8.84519</td>\n      <td>20780</td>\n    </tr>\n    <tr>\n      <th>3</th>\n      <td>1978-01-01</td>\n      <td>83.7450</td>\n      <td>78.84679</td>\n      <td>79.15866</td>\n      <td>1.05957</td>\n      <td>6.06667</td>\n      <td>6572.819</td>\n      <td>9.64173</td>\n      <td>21497</td>\n    </tr>\n    <tr>\n      <th>4</th>\n      <td>1979-01-01</td>\n      <td>95.1325</td>\n      <td>85.63207</td>\n      <td>88.06755</td>\n      <td>1.10358</td>\n      <td>5.83333</td>\n      <td>6780.924</td>\n      <td>11.20365</td>\n      <td>21672</td>\n    </tr>\n  </tbody>\n</table>\n</div>"
          },
          "metadata": {}
        }
      ],
      "execution_count": 9
    },
    {
      "cell_type": "markdown",
      "source": "<details>\n    <summary>Click here for Solution</summary>\n\n```python\n#dropping rows (axis=0) that satisfy a criterion\ndata_reduced_subset = data.drop(data[data[\"Unemployment_Rate\"] > 9.5].index)\ndata_reduced_subset.head()\n```\n\n</details>\n",
      "metadata": {}
    },
    {
      "cell_type": "markdown",
      "source": "### Exercise 5: Get the dimensions of the dataframe created in Question 4 \n",
      "metadata": {}
    },
    {
      "cell_type": "code",
      "source": "data_reduced_subset.size",
      "metadata": {
        "trusted": true
      },
      "outputs": [
        {
          "execution_count": 10,
          "output_type": "execute_result",
          "data": {
            "text/plain": "396"
          },
          "metadata": {}
        }
      ],
      "execution_count": 10
    },
    {
      "cell_type": "markdown",
      "source": "<details>\n    <summary>Click here for Solution</summary>\n\n```python\n##size is the number of elements in the dataframe (number of rows * number of columns)\ndata_reduced_subset.size\n```\n\n</details>\n",
      "metadata": {}
    },
    {
      "cell_type": "markdown",
      "source": "### Exercise 6: Create a dataframe by selecting Real_Disposable_Income and House_Price_Index attributes from the original dataset and print out the statistics for these attributes \n",
      "metadata": {}
    },
    {
      "cell_type": "code",
      "source": "disp_income = data[['Real_Disposable_Income', 'House_Price_Index']]\ndisp_income.describe()",
      "metadata": {
        "trusted": true
      },
      "outputs": [
        {
          "execution_count": 12,
          "output_type": "execute_result",
          "data": {
            "text/plain": "       Real_Disposable_Income  House_Price_Index\ncount               47.000000          47.000000\nmean             32040.936170         240.145585\nstd               8006.301392         120.405988\nmin              19908.000000          61.090000\n25%              25432.500000         140.788750\n50%              31712.000000         211.462500\n75%              38235.000000         339.353750\nmax              48219.000000         523.260000",
            "text/html": "<div>\n<style scoped>\n    .dataframe tbody tr th:only-of-type {\n        vertical-align: middle;\n    }\n\n    .dataframe tbody tr th {\n        vertical-align: top;\n    }\n\n    .dataframe thead th {\n        text-align: right;\n    }\n</style>\n<table border=\"1\" class=\"dataframe\">\n  <thead>\n    <tr style=\"text-align: right;\">\n      <th></th>\n      <th>Real_Disposable_Income</th>\n      <th>House_Price_Index</th>\n    </tr>\n  </thead>\n  <tbody>\n    <tr>\n      <th>count</th>\n      <td>47.000000</td>\n      <td>47.000000</td>\n    </tr>\n    <tr>\n      <th>mean</th>\n      <td>32040.936170</td>\n      <td>240.145585</td>\n    </tr>\n    <tr>\n      <th>std</th>\n      <td>8006.301392</td>\n      <td>120.405988</td>\n    </tr>\n    <tr>\n      <th>min</th>\n      <td>19908.000000</td>\n      <td>61.090000</td>\n    </tr>\n    <tr>\n      <th>25%</th>\n      <td>25432.500000</td>\n      <td>140.788750</td>\n    </tr>\n    <tr>\n      <th>50%</th>\n      <td>31712.000000</td>\n      <td>211.462500</td>\n    </tr>\n    <tr>\n      <th>75%</th>\n      <td>38235.000000</td>\n      <td>339.353750</td>\n    </tr>\n    <tr>\n      <th>max</th>\n      <td>48219.000000</td>\n      <td>523.260000</td>\n    </tr>\n  </tbody>\n</table>\n</div>"
          },
          "metadata": {}
        }
      ],
      "execution_count": 12
    },
    {
      "cell_type": "markdown",
      "source": "<details>\n    <summary>Click here for Solution</summary>\n\n```python\ndisp_income=data[['Real_Disposable_Income', 'House_Price_Index']]\ndisp_income.describe()\n```\n\n</details>\n",
      "metadata": {}
    },
    {
      "cell_type": "markdown",
      "source": "### Exercise 7: Plot a scatter plot between House_Price_Index and Real_Disposable_Income \n",
      "metadata": {}
    },
    {
      "cell_type": "code",
      "source": "plt.scatter(x=data['Real_Disposable_Income'], y=data['House_Price_Index'])\nplt.xlabel('Real_Disposable_Income')\nplt.ylabel('House_Price_Index')\nplt.show()",
      "metadata": {
        "trusted": true
      },
      "outputs": [
        {
          "output_type": "display_data",
          "data": {
            "text/plain": "<Figure size 640x480 with 1 Axes>",
            "image/png": "[encoded data removed]"
          },
          "metadata": {}
        }
      ],
      "execution_count": 16
    },
    {
      "cell_type": "markdown",
      "source": "<details>\n    <summary>Click here for Solution</summary>\n\n```python\nx=data['Real_Disposable_Income']\ny=data['House_Price_Index']\nplt.scatter(x,y)\nplt.xlabel(\"Real_Disposable_Income\")\nplt.ylabel(\"House_Price_Index\")\nplt.show()\n```\n\n</details>\n",
      "metadata": {}
    },
    {
      "cell_type": "markdown",
      "source": "### Exercise 8: Create a bar chart with date (as year) on X-axis and Real_GDP on the Y-axis \n",
      "metadata": {}
    },
    {
      "cell_type": "code",
      "source": "",
      "metadata": {},
      "outputs": [],
      "execution_count": null
    },
    {
      "cell_type": "markdown",
      "source": "<details>\n    <summary>Click here for Solution</summary>\n\n```python\nx=pd.DatetimeIndex(data['Date']).year\ny=data['Real_GDP']\nplt.bar(x,y,color ='green')\nplt.xlabel(\"Date\")\nplt.ylabel(\"Real_GDP\")\nplt.show()\n```\n\n</details>\n",
      "metadata": {}
    },
    {
      "cell_type": "markdown",
      "source": "### Exercise 9: Create a combo chart with date on X-axis and Consumer_Price_Index on Y1-axis (bar) and Mortgage_Rate (line) on Y2-axis \n",
      "metadata": {}
    },
    {
      "cell_type": "code",
      "source": "",
      "metadata": {},
      "outputs": [],
      "execution_count": null
    },
    {
      "cell_type": "markdown",
      "source": "<details>\n    <summary>Click here for Solution</summary>\n\n```python\nfig, ax1 = plt.subplots(figsize=(9, 6))\nx=pd.DatetimeIndex(data['Date']).year\ny1=data['Consumer_Price_Index']\ny2=data['Mortgage_Rate']\n\n# Instantiate a second axes that shares the same x-axis\nax2 = ax1.twinx()  \nax1.bar(x,y1, color=\"orange\")\nax2.plot(x,y2, color=\"blue\", marker=\".\", markersize=10)\nax1.set_xlabel(\"Date\")\nax1.set_ylabel(\"Consumer_Price_Index\")\nax2.set_ylabel(\"Mortgage_Rate(%)\")\nplt.show()\n```\n\n</details>\n",
      "metadata": {}
    },
    {
      "cell_type": "markdown",
      "source": "### Exercise 10: Create sub-plots with Date on X-axis and Stock_Price_Index on subplot 1 and Consumer_Price_Index on subplot 2\n",
      "metadata": {}
    },
    {
      "cell_type": "code",
      "source": "",
      "metadata": {},
      "outputs": [],
      "execution_count": null
    },
    {
      "cell_type": "markdown",
      "source": "<details>\n    <summary>Click here for Solution</summary>\n\n```python\nx0=pd.DatetimeIndex(data['Date']).year\nx1=data['Stock_Price_Index']\nx2=data['Consumer_Price_Index']\n\nplt.subplots(2, 1, sharex=True, figsize=(9, 6))\n\nplt.subplot(2,1,1)\nplt.plot(x0,x1)\nplt.fill_between(x0,x1,color=\"red\")\nplt.title(\"Stock_Price_Index\")\n\nplt.subplot(2,1,2)\nplt.plot(x0,x2,marker=\"^\")\nplt.title(\"Consumer_Price_Index\")\n\nplt.tight_layout()\nplt.show()\n```\n\n</details>\n",
      "metadata": {}
    },
    {
      "cell_type": "markdown",
      "source": "## Change Log\n\n| Date (YYYY-MM-DD) | Version | Changed By | Change Description                                         |\n| ----------------- | ------- | ---------- | ---------------------------------------------------------- |\n| 2022-01-24        | 1.2     | Lakshmi     | Added logo and piplite updates |\n\n\n## <h3 align=\"center\"> © IBM Corporation 2023. All rights reserved. <h3/>\n",
      "metadata": {}
    }
  ]
}